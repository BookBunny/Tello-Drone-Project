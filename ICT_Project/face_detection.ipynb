{
 "cells": [
  {
   "cell_type": "code",
   "execution_count": 19,
   "metadata": {
    "collapsed": true
   },
   "outputs": [
    {
     "name": "stdout",
     "output_type": "stream",
     "text": [
      "Requirement already satisfied: dlib in c:\\users\\balog\\pycharmprojects\\pythonproject1\\venv\\lib\\site-packages (19.24.0)\n",
      "Requirement already satisfied: keras_vggface in c:\\users\\balog\\pycharmprojects\\pythonproject1\\venv\\lib\\site-packages (0.6)\n",
      "Requirement already satisfied: keras in c:\\users\\balog\\pycharmprojects\\pythonproject1\\venv\\lib\\site-packages (from keras_vggface) (2.11.0)\n",
      "Requirement already satisfied: numpy>=1.9.1 in c:\\users\\balog\\appdata\\local\\programs\\python\\python310\\lib\\site-packages (from keras_vggface) (1.22.3)\n",
      "Requirement already satisfied: scipy>=0.14 in c:\\users\\balog\\pycharmprojects\\pythonproject1\\venv\\lib\\site-packages (from keras_vggface) (1.10.0)\n",
      "Requirement already satisfied: pillow in c:\\users\\balog\\pycharmprojects\\pythonproject1\\venv\\lib\\site-packages (from keras_vggface) (9.2.0)\n",
      "Requirement already satisfied: six>=1.9.0 in c:\\users\\balog\\appdata\\local\\programs\\python\\python310\\lib\\site-packages (from keras_vggface) (1.16.0)\n",
      "Requirement already satisfied: h5py in c:\\users\\balog\\pycharmprojects\\pythonproject1\\venv\\lib\\site-packages (from keras_vggface) (3.8.0)\n",
      "Requirement already satisfied: pyyaml in c:\\users\\balog\\appdata\\local\\programs\\python\\python310\\lib\\site-packages (from keras_vggface) (5.4.1)\n",
      "Requirement already satisfied: face_recognition in c:\\users\\balog\\pycharmprojects\\pythonproject1\\venv\\lib\\site-packages (1.3.0)\n",
      "Requirement already satisfied: numpy in c:\\users\\balog\\appdata\\local\\programs\\python\\python310\\lib\\site-packages (from face_recognition) (1.22.3)\n",
      "Requirement already satisfied: dlib>=19.7 in c:\\users\\balog\\pycharmprojects\\pythonproject1\\venv\\lib\\site-packages (from face_recognition) (19.24.0)\n",
      "Requirement already satisfied: face-recognition-models>=0.3.0 in c:\\users\\balog\\pycharmprojects\\pythonproject1\\venv\\lib\\site-packages (from face_recognition) (0.3.0)\n",
      "Requirement already satisfied: Pillow in c:\\users\\balog\\pycharmprojects\\pythonproject1\\venv\\lib\\site-packages (from face_recognition) (9.2.0)\n",
      "Requirement already satisfied: Click>=6.0 in c:\\users\\balog\\appdata\\local\\programs\\python\\python310\\lib\\site-packages (from face_recognition) (8.1.3)\n",
      "Requirement already satisfied: colorama in c:\\users\\balog\\appdata\\local\\programs\\python\\python310\\lib\\site-packages (from Click>=6.0->face_recognition) (0.4.4)\n",
      "Requirement already satisfied: imutils in c:\\users\\balog\\pycharmprojects\\pythonproject1\\venv\\lib\\site-packages (0.5.4)\n",
      "^C\n"
     ]
    }
   ],
   "source": [
    "#workon  optional\n",
    "!pip install dlib\n",
    "!pip install keras_vggface\n",
    "!pip install face_recognition\n",
    "!pip install imutils\n",
    "!pip install keras_applications\n"
   ]
  },
  {
   "cell_type": "markdown",
   "source": [
    "\n"
   ],
   "metadata": {
    "collapsed": false
   }
  },
  {
   "cell_type": "code",
   "execution_count": 21,
   "outputs": [
    {
     "name": "stderr",
     "output_type": "stream",
     "text": [
      "usage: ipykernel_launcher.py [-h] -e ENCODINGS [-o OUTPUT] [-y DISPLAY]\n",
      "                             [-d DETECTION_METHOD]\n",
      "ipykernel_launcher.py: error: the following arguments are required: -e/--encodings\n"
     ]
    },
    {
     "ename": "SystemExit",
     "evalue": "2",
     "output_type": "error",
     "traceback": [
      "An exception has occurred, use %tb to see the full traceback.\n",
      "\u001B[1;31mSystemExit\u001B[0m\u001B[1;31m:\u001B[0m 2\n"
     ]
    }
   ],
   "source": [
    "# import the necessary packages\n",
    "from imutils.video import VideoStream\n",
    "import face_recognition\n",
    "import argparse\n",
    "import imutils\n",
    "import pickle\n",
    "import time\n",
    "import cv2\n",
    "# construct the argument parser and parse the arguments\n",
    "ap = argparse.ArgumentParser()\n",
    "ap.add_argument(\"-e\", \"--encodings\", required=True,\n",
    "\thelp=\"path to serialized db of facial encodings\")\n",
    "ap.add_argument(\"-o\", \"--output\", type=str,\n",
    "\thelp=\"path to output video\")\n",
    "ap.add_argument(\"-y\", \"--display\", type=int, default=1,\n",
    "\thelp=\"whether or not to display output frame to screen\")\n",
    "ap.add_argument(\"-d\", \"--detection-method\", type=str, default=\"cnn\",\n",
    "\thelp=\"face detection model to use: either `hog` or `cnn`\")\n",
    "args = vars(ap.parse_args())"
   ],
   "metadata": {
    "collapsed": false
   }
  },
  {
   "cell_type": "code",
   "execution_count": null,
   "outputs": [],
   "source": [],
   "metadata": {
    "collapsed": false
   }
  },
  {
   "cell_type": "code",
   "execution_count": null,
   "outputs": [],
   "source": [],
   "metadata": {
    "collapsed": false
   }
  }
 ],
 "metadata": {
  "kernelspec": {
   "display_name": "Python 3",
   "language": "python",
   "name": "python3"
  },
  "language_info": {
   "codemirror_mode": {
    "name": "ipython",
    "version": 2
   },
   "file_extension": ".py",
   "mimetype": "text/x-python",
   "name": "python",
   "nbconvert_exporter": "python",
   "pygments_lexer": "ipython2",
   "version": "2.7.6"
  }
 },
 "nbformat": 4,
 "nbformat_minor": 0
}
